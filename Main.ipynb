{
 "cells": [
  {
   "cell_type": "markdown",
   "metadata": {},
   "source": [
    "# Sử dụng thư viện"
   ]
  },
  {
   "cell_type": "code",
   "execution_count": 40,
   "metadata": {},
   "outputs": [],
   "source": [
    "import pickle\n",
    "import numpy as np\n",
    "from pyvi import ViTokenizer"
   ]
  },
  {
   "cell_type": "markdown",
   "metadata": {},
   "source": [
    "# Load Data và tiền xử lý"
   ]
  },
  {
   "cell_type": "code",
   "execution_count": 41,
   "metadata": {},
   "outputs": [],
   "source": [
    "#Load Data\n",
    "with open ('neg.pkl', 'rb') as fp:\n",
    "    contents = pickle.load(fp)"
   ]
  },
  {
   "cell_type": "code",
   "execution_count": 42,
   "metadata": {},
   "outputs": [],
   "source": [
    "#Tiền xử lý dữ liệu\n",
    "contents_parsed = []\n",
    "for content in contents[0:10]:\n",
    "    contents_parsed.append(content.lower().strip())"
   ]
  },
  {
   "cell_type": "code",
   "execution_count": 43,
   "metadata": {},
   "outputs": [],
   "source": [
    "# Viết data trong file pkl sang txt, có thể chạy đoạn code này nếu cần\n",
    "# with open('neg.txt', 'w') as txt_file:\n",
    "#     txt_file.write(str(contents))"
   ]
  },
  {
   "cell_type": "code",
   "execution_count": 44,
   "metadata": {},
   "outputs": [
    {
     "name": "stdout",
     "output_type": "stream",
     "text": [
      "Cá độ online  Dân \"mê đá bóng thì ít, máu mê đỏ đen nhiều\" đã \"nối mạng\" với các trùm độ từ Hong Kong, Ma Cao để độ các giải vô địch châu Âu. Một PC nối mạng ADSL, một tài khoản ngân hàng chi trả bằng thẻ tín dụng và chút ít kiến thức về Internet, trò cá độ qua mạng bắt đầu...  Xưa nay dân cá độ bóng đá đều hiểu rõ, xuôi ngược gì thì tiền cá độ cũng chạy ra nước ngoài mà cũng chẳng đâu xa, quanh quẩn Hong Kong, Ma Cao mà thôi. Họ cũng đã nhiều lần trắng mắt than trời và trả nhiều triệu \"học phí\" để nghiệm ra rằng, càng cá độ \"chuyên nghiệp\" càng mau bán xe cầm nhà!  Nhưng chỉ khi nào khuynh gia bại sản thì may ra một số kẻ mới tỉnh, còn đa số vẫn lao đầu vào như những con thiêu thân. Và đến thời đại Internet bùng nổ thì số dân chơi cá độ \"đứt bóng\" sớm còn gia tăng mạnh.  Những chủ độ từ nước ngoài lập hẳn trang web cho dân cá độ và chơi đủ loại giải Âu, Á, Mỹ, Phi... Cả Tiger Cup cũng không thoát. Nhưng được làm thành viên (member) của các trang web này không phải dễ.   Trước hết là thủ tục \"đầu tiên\", người chơi cần có một thẻ tín dụng Visa hay Master mà hiện nay làm thủ tục các ngân hàng VCB hay ACB không khó. Khó hơn nữa, ít nhất người chơi cần phải có 20.000 USD trong tài khoản trở lên thì mới được \"xem xét\" để thành VIP, còn không thì phải tìm một tay chơi nào đã là thành viên bảo lãnh.   Thông thường dân chơi sẽ được bảo lãnh bằng cách dùng chung User name (tên truy nhập) và Password (mật khẩu) sau khi đã được \"thẩm tra\" tiềm năng chi trả. Đừng nói chuyện \"bùng\" khi thua ở đây vì những kẻ đã dám bảo lãnh có trăm nghìn cách để cho \"con nợ\" dẫu có chết cũng phải sống dậy để trả nợ.  Trước trận đấu, dân chơi có thể đăng nhập vào để biết tỷ lệ cược (tỷ số và kết quả chung cuộc) để chuẩn bị chơi và có thể cá cược bất cứ lúc nào trong suốt trận đấu cho đến khi bóng ngừng lăn. Một trận đấu có thể click cả hàng chục kết quả khác nhau.  Ngay như trận Czech-Phần Lan cuối tuần rồi, tỷ lệ ra kèo Czech chấp nửa một ngay đầu trận, đến phút 35 Czech thắng 2-0 thì chủ nhà chấp hẳn trái rưỡi. Tuy nhiên khi Phần Lan gỡ hòa thì kèo lại hạ và không ít kẻ đổ về Phần Lan để rồi nhận \"cái chết bất ngờ\" khi Czech thắng 3-2 ở phút 87.  Với dân cá độ nếu thua thì tài khoản \"goodbye\" từ Việt Nam về Hong Kong. Nếu thắng, tiền sẽ được chuyển thẳng vào tài khoản thẻ, còn những kẻ được bảo lãnh chơi (không có tài khoản) thì sẽ có người cầm hàng tệp USD giao tận nhà.  Theo Nguyễn Công Thanh, chủ một garage xe hơi tại TP HCM, chơi như vậy an toàn và bảo mật hơn, hầu như không có rủi ro cho cả nhà cái lẫn con bạc. Hơn nữa, Thanh khẳng định \"công an chưa mò vào đây\".  Giải vô địch Anh và những trận đấu cấp đội tuyển quốc gia châu Âu luôn được \"hâm mộ\" bởi tính chất quyết liệt, căng thẳng với những bàn thắng cuối trận, khiến không ít kẻ từ cõi chết trở về và cũng đẩy không ít người đã cầm chắc 99% thắng cược lao xuống vực.  Những dân chơi có \"thâm niên\" thì cho rằng vẫn có \"bán độ\" trong những giải ấy. Trận Anh - Bắc Ireland trong khuôn khổ vòng loại Worldcup 2006 đêm 26/3 được lấy làm dẫn chứng. Đầu trận, click vào Anh chấp 1,5 trái theo tỷ lệ châu Á, khách chơi đổ theo Anh, Backham và đồng đội chơi rất hay nhưng không ghi được bàn nào.  Sang hiệp 2, khi mà khách đổi sang Bắc Ireland cũng với kèo trên thì Anh nã liên tiếp 4 trái, khách tiếp tục thua lần 2. Chuyện này gợi nhớ lại Tigercup 2004, kèo ra Việt Nam chấp Campuchia 3,5 trái mà hiệp 1 Việt Nam chỉ thắng nổi 2-1. Đợi lúc khách đổi sang Campuchia ở hiệp 2 thì không chỉ cầu thủ Việt Nam thi nhau dội bom mà cả cầu thủ Campuchia cũng đá phản cho \"kịp\".   Đó là chuyện của quá khứ, còn sang năm nay, dân chơi cá độ kháo nhau nhà cái \"thả\" cho khách ăn để họ không nản mà bỏ cuộc chơi. Xem ra cũng có cơ sở khi mà những chuyện bất ngờ đại loại như Hy Lạp vô địch Euro 2004, Porto và Monaco vào chung kết Champion League hay Singapore vô địch Tiger Cup chưa thấy xuất hiện. Tuy nhiên, lời cảnh báo \"cái chết bất ngờ\" theo đủ nghĩa với dân chơi cá độ thì không bao giờ thừa.    \n"
     ]
    }
   ],
   "source": [
    "print(contents[5])"
   ]
  },
  {
   "cell_type": "code",
   "execution_count": 45,
   "metadata": {},
   "outputs": [
    {
     "name": "stdout",
     "output_type": "stream",
     "text": [
      "cá độ online  dân \"mê đá bóng thì ít, máu mê đỏ đen nhiều\" đã \"nối mạng\" với các trùm độ từ hong kong, ma cao để độ các giải vô địch châu âu. một pc nối mạng adsl, một tài khoản ngân hàng chi trả bằng thẻ tín dụng và chút ít kiến thức về internet, trò cá độ qua mạng bắt đầu...  xưa nay dân cá độ bóng đá đều hiểu rõ, xuôi ngược gì thì tiền cá độ cũng chạy ra nước ngoài mà cũng chẳng đâu xa, quanh quẩn hong kong, ma cao mà thôi. họ cũng đã nhiều lần trắng mắt than trời và trả nhiều triệu \"học phí\" để nghiệm ra rằng, càng cá độ \"chuyên nghiệp\" càng mau bán xe cầm nhà!  nhưng chỉ khi nào khuynh gia bại sản thì may ra một số kẻ mới tỉnh, còn đa số vẫn lao đầu vào như những con thiêu thân. và đến thời đại internet bùng nổ thì số dân chơi cá độ \"đứt bóng\" sớm còn gia tăng mạnh.  những chủ độ từ nước ngoài lập hẳn trang web cho dân cá độ và chơi đủ loại giải âu, á, mỹ, phi... cả tiger cup cũng không thoát. nhưng được làm thành viên (member) của các trang web này không phải dễ.   trước hết là thủ tục \"đầu tiên\", người chơi cần có một thẻ tín dụng visa hay master mà hiện nay làm thủ tục các ngân hàng vcb hay acb không khó. khó hơn nữa, ít nhất người chơi cần phải có 20.000 usd trong tài khoản trở lên thì mới được \"xem xét\" để thành vip, còn không thì phải tìm một tay chơi nào đã là thành viên bảo lãnh.   thông thường dân chơi sẽ được bảo lãnh bằng cách dùng chung user name (tên truy nhập) và password (mật khẩu) sau khi đã được \"thẩm tra\" tiềm năng chi trả. đừng nói chuyện \"bùng\" khi thua ở đây vì những kẻ đã dám bảo lãnh có trăm nghìn cách để cho \"con nợ\" dẫu có chết cũng phải sống dậy để trả nợ.  trước trận đấu, dân chơi có thể đăng nhập vào để biết tỷ lệ cược (tỷ số và kết quả chung cuộc) để chuẩn bị chơi và có thể cá cược bất cứ lúc nào trong suốt trận đấu cho đến khi bóng ngừng lăn. một trận đấu có thể click cả hàng chục kết quả khác nhau.  ngay như trận czech-phần lan cuối tuần rồi, tỷ lệ ra kèo czech chấp nửa một ngay đầu trận, đến phút 35 czech thắng 2-0 thì chủ nhà chấp hẳn trái rưỡi. tuy nhiên khi phần lan gỡ hòa thì kèo lại hạ và không ít kẻ đổ về phần lan để rồi nhận \"cái chết bất ngờ\" khi czech thắng 3-2 ở phút 87.  với dân cá độ nếu thua thì tài khoản \"goodbye\" từ việt nam về hong kong. nếu thắng, tiền sẽ được chuyển thẳng vào tài khoản thẻ, còn những kẻ được bảo lãnh chơi (không có tài khoản) thì sẽ có người cầm hàng tệp usd giao tận nhà.  theo nguyễn công thanh, chủ một garage xe hơi tại tp hcm, chơi như vậy an toàn và bảo mật hơn, hầu như không có rủi ro cho cả nhà cái lẫn con bạc. hơn nữa, thanh khẳng định \"công an chưa mò vào đây\".  giải vô địch anh và những trận đấu cấp đội tuyển quốc gia châu âu luôn được \"hâm mộ\" bởi tính chất quyết liệt, căng thẳng với những bàn thắng cuối trận, khiến không ít kẻ từ cõi chết trở về và cũng đẩy không ít người đã cầm chắc 99% thắng cược lao xuống vực.  những dân chơi có \"thâm niên\" thì cho rằng vẫn có \"bán độ\" trong những giải ấy. trận anh - bắc ireland trong khuôn khổ vòng loại worldcup 2006 đêm 26/3 được lấy làm dẫn chứng. đầu trận, click vào anh chấp 1,5 trái theo tỷ lệ châu á, khách chơi đổ theo anh, backham và đồng đội chơi rất hay nhưng không ghi được bàn nào.  sang hiệp 2, khi mà khách đổi sang bắc ireland cũng với kèo trên thì anh nã liên tiếp 4 trái, khách tiếp tục thua lần 2. chuyện này gợi nhớ lại tigercup 2004, kèo ra việt nam chấp campuchia 3,5 trái mà hiệp 1 việt nam chỉ thắng nổi 2-1. đợi lúc khách đổi sang campuchia ở hiệp 2 thì không chỉ cầu thủ việt nam thi nhau dội bom mà cả cầu thủ campuchia cũng đá phản cho \"kịp\".   đó là chuyện của quá khứ, còn sang năm nay, dân chơi cá độ kháo nhau nhà cái \"thả\" cho khách ăn để họ không nản mà bỏ cuộc chơi. xem ra cũng có cơ sở khi mà những chuyện bất ngờ đại loại như hy lạp vô địch euro 2004, porto và monaco vào chung kết champion league hay singapore vô địch tiger cup chưa thấy xuất hiện. tuy nhiên, lời cảnh báo \"cái chết bất ngờ\" theo đủ nghĩa với dân chơi cá độ thì không bao giờ thừa.\n"
     ]
    }
   ],
   "source": [
    "print(contents_parsed[5])"
   ]
  },
  {
   "cell_type": "markdown",
   "metadata": {},
   "source": [
    "# Tokenize văn bản"
   ]
  },
  {
   "cell_type": "code",
   "execution_count": 46,
   "metadata": {},
   "outputs": [],
   "source": [
    "import nltk"
   ]
  },
  {
   "cell_type": "code",
   "execution_count": 47,
   "metadata": {},
   "outputs": [],
   "source": [
    "sentences = nltk.sent_tokenize(contents_parsed[5])"
   ]
  },
  {
   "cell_type": "code",
   "execution_count": 48,
   "metadata": {},
   "outputs": [
    {
     "name": "stdout",
     "output_type": "stream",
     "text": [
      "['cá độ online  dân \"mê đá bóng thì ít, máu mê đỏ đen nhiều\" đã \"nối mạng\" với các trùm độ từ hong kong, ma cao để độ các giải vô địch châu âu.', 'một pc nối mạng adsl, một tài khoản ngân hàng chi trả bằng thẻ tín dụng và chút ít kiến thức về internet, trò cá độ qua mạng bắt đầu...  xưa nay dân cá độ bóng đá đều hiểu rõ, xuôi ngược gì thì tiền cá độ cũng chạy ra nước ngoài mà cũng chẳng đâu xa, quanh quẩn hong kong, ma cao mà thôi.', 'họ cũng đã nhiều lần trắng mắt than trời và trả nhiều triệu \"học phí\" để nghiệm ra rằng, càng cá độ \"chuyên nghiệp\" càng mau bán xe cầm nhà!', 'nhưng chỉ khi nào khuynh gia bại sản thì may ra một số kẻ mới tỉnh, còn đa số vẫn lao đầu vào như những con thiêu thân.', 'và đến thời đại internet bùng nổ thì số dân chơi cá độ \"đứt bóng\" sớm còn gia tăng mạnh.', 'những chủ độ từ nước ngoài lập hẳn trang web cho dân cá độ và chơi đủ loại giải âu, á, mỹ, phi... cả tiger cup cũng không thoát.', 'nhưng được làm thành viên (member) của các trang web này không phải dễ.', 'trước hết là thủ tục \"đầu tiên\", người chơi cần có một thẻ tín dụng visa hay master mà hiện nay làm thủ tục các ngân hàng vcb hay acb không khó.', 'khó hơn nữa, ít nhất người chơi cần phải có 20.000 usd trong tài khoản trở lên thì mới được \"xem xét\" để thành vip, còn không thì phải tìm một tay chơi nào đã là thành viên bảo lãnh.', 'thông thường dân chơi sẽ được bảo lãnh bằng cách dùng chung user name (tên truy nhập) và password (mật khẩu) sau khi đã được \"thẩm tra\" tiềm năng chi trả.', 'đừng nói chuyện \"bùng\" khi thua ở đây vì những kẻ đã dám bảo lãnh có trăm nghìn cách để cho \"con nợ\" dẫu có chết cũng phải sống dậy để trả nợ.', 'trước trận đấu, dân chơi có thể đăng nhập vào để biết tỷ lệ cược (tỷ số và kết quả chung cuộc) để chuẩn bị chơi và có thể cá cược bất cứ lúc nào trong suốt trận đấu cho đến khi bóng ngừng lăn.', 'một trận đấu có thể click cả hàng chục kết quả khác nhau.', 'ngay như trận czech-phần lan cuối tuần rồi, tỷ lệ ra kèo czech chấp nửa một ngay đầu trận, đến phút 35 czech thắng 2-0 thì chủ nhà chấp hẳn trái rưỡi.', 'tuy nhiên khi phần lan gỡ hòa thì kèo lại hạ và không ít kẻ đổ về phần lan để rồi nhận \"cái chết bất ngờ\" khi czech thắng 3-2 ở phút 87.  với dân cá độ nếu thua thì tài khoản \"goodbye\" từ việt nam về hong kong.', 'nếu thắng, tiền sẽ được chuyển thẳng vào tài khoản thẻ, còn những kẻ được bảo lãnh chơi (không có tài khoản) thì sẽ có người cầm hàng tệp usd giao tận nhà.', 'theo nguyễn công thanh, chủ một garage xe hơi tại tp hcm, chơi như vậy an toàn và bảo mật hơn, hầu như không có rủi ro cho cả nhà cái lẫn con bạc.', 'hơn nữa, thanh khẳng định \"công an chưa mò vào đây\".', 'giải vô địch anh và những trận đấu cấp đội tuyển quốc gia châu âu luôn được \"hâm mộ\" bởi tính chất quyết liệt, căng thẳng với những bàn thắng cuối trận, khiến không ít kẻ từ cõi chết trở về và cũng đẩy không ít người đã cầm chắc 99% thắng cược lao xuống vực.', 'những dân chơi có \"thâm niên\" thì cho rằng vẫn có \"bán độ\" trong những giải ấy.', 'trận anh - bắc ireland trong khuôn khổ vòng loại worldcup 2006 đêm 26/3 được lấy làm dẫn chứng.', 'đầu trận, click vào anh chấp 1,5 trái theo tỷ lệ châu á, khách chơi đổ theo anh, backham và đồng đội chơi rất hay nhưng không ghi được bàn nào.', 'sang hiệp 2, khi mà khách đổi sang bắc ireland cũng với kèo trên thì anh nã liên tiếp 4 trái, khách tiếp tục thua lần 2. chuyện này gợi nhớ lại tigercup 2004, kèo ra việt nam chấp campuchia 3,5 trái mà hiệp 1 việt nam chỉ thắng nổi 2-1. đợi lúc khách đổi sang campuchia ở hiệp 2 thì không chỉ cầu thủ việt nam thi nhau dội bom mà cả cầu thủ campuchia cũng đá phản cho \"kịp\".', 'đó là chuyện của quá khứ, còn sang năm nay, dân chơi cá độ kháo nhau nhà cái \"thả\" cho khách ăn để họ không nản mà bỏ cuộc chơi.', 'xem ra cũng có cơ sở khi mà những chuyện bất ngờ đại loại như hy lạp vô địch euro 2004, porto và monaco vào chung kết champion league hay singapore vô địch tiger cup chưa thấy xuất hiện.', 'tuy nhiên, lời cảnh báo \"cái chết bất ngờ\" theo đủ nghĩa với dân chơi cá độ thì không bao giờ thừa.']\n"
     ]
    }
   ],
   "source": [
    "print(sentences)"
   ]
  },
  {
   "cell_type": "markdown",
   "metadata": {},
   "source": [
    "# Câu sang vector"
   ]
  },
  {
   "cell_type": "code",
   "execution_count": 49,
   "metadata": {
    "scrolled": true
   },
   "outputs": [],
   "source": [
    "from gensim.models import KeyedVectors \n",
    "\n",
    "w2v = KeyedVectors.load_word2vec_format(\"vi_txt/vi.vec\")"
   ]
  },
  {
   "cell_type": "code",
   "execution_count": 50,
   "metadata": {},
   "outputs": [],
   "source": [
    "vocab = w2v.key_to_index \n"
   ]
  },
  {
   "cell_type": "code",
   "execution_count": 51,
   "metadata": {},
   "outputs": [],
   "source": [
    "X = []\n",
    "for sentence in sentences:\n",
    "    sentence = ViTokenizer.tokenize(sentence)\n",
    "    words = sentence.split(\" \")\n",
    "    sentence_vec = np.zeros((100))\n",
    "    for word in words:\n",
    "        if word in vocab:\n",
    "            sentence_vec += w2v[word]\n",
    "    X.append(sentence_vec)"
   ]
  },
  {
   "cell_type": "code",
   "execution_count": 52,
   "metadata": {},
   "outputs": [
    {
     "name": "stderr",
     "output_type": "stream",
     "text": [
      "h:\\AnacondaApp\\envs\\tf\\lib\\site-packages\\sklearn\\cluster\\_kmeans.py:1426: UserWarning: KMeans is known to have a memory leak on Windows with MKL, when there are less chunks than available threads. You can avoid it by setting the environment variable OMP_NUM_THREADS=1.\n",
      "  warnings.warn(\n"
     ]
    }
   ],
   "source": [
    "from sklearn.cluster import KMeans\n",
    "\n",
    "n_clusters = 5\n",
    "kmeans = KMeans(n_clusters=n_clusters)\n",
    "kmeans = kmeans.fit(X)"
   ]
  },
  {
   "cell_type": "code",
   "execution_count": 53,
   "metadata": {},
   "outputs": [],
   "source": [
    "from sklearn.metrics import pairwise_distances_argmin_min\n",
    "\n",
    "avg = []\n",
    "for j in range(n_clusters):\n",
    "    idx = np.where(kmeans.labels_ == j)[0]\n",
    "    avg.append(np.mean(idx))\n",
    "closest, _ = pairwise_distances_argmin_min(kmeans.cluster_centers_, X)\n",
    "ordering = sorted(range(n_clusters), key=lambda k: avg[k])\n",
    "summary = ' '.join([sentences[closest[idx]] for idx in ordering])"
   ]
  },
  {
   "cell_type": "code",
   "execution_count": 54,
   "metadata": {},
   "outputs": [
    {
     "name": "stdout",
     "output_type": "stream",
     "text": [
      "['cá độ online  dân \"mê đá bóng thì ít, máu mê đỏ đen nhiều\" đã \"nối mạng\" với các trùm độ từ hong kong, ma cao để độ các giải vô địch châu âu.', 'một pc nối mạng adsl, một tài khoản ngân hàng chi trả bằng thẻ tín dụng và chút ít kiến thức về internet, trò cá độ qua mạng bắt đầu...  xưa nay dân cá độ bóng đá đều hiểu rõ, xuôi ngược gì thì tiền cá độ cũng chạy ra nước ngoài mà cũng chẳng đâu xa, quanh quẩn hong kong, ma cao mà thôi.', 'họ cũng đã nhiều lần trắng mắt than trời và trả nhiều triệu \"học phí\" để nghiệm ra rằng, càng cá độ \"chuyên nghiệp\" càng mau bán xe cầm nhà!', 'nhưng chỉ khi nào khuynh gia bại sản thì may ra một số kẻ mới tỉnh, còn đa số vẫn lao đầu vào như những con thiêu thân.', 'và đến thời đại internet bùng nổ thì số dân chơi cá độ \"đứt bóng\" sớm còn gia tăng mạnh.', 'những chủ độ từ nước ngoài lập hẳn trang web cho dân cá độ và chơi đủ loại giải âu, á, mỹ, phi... cả tiger cup cũng không thoát.', 'nhưng được làm thành viên (member) của các trang web này không phải dễ.', 'trước hết là thủ tục \"đầu tiên\", người chơi cần có một thẻ tín dụng visa hay master mà hiện nay làm thủ tục các ngân hàng vcb hay acb không khó.', 'khó hơn nữa, ít nhất người chơi cần phải có 20.000 usd trong tài khoản trở lên thì mới được \"xem xét\" để thành vip, còn không thì phải tìm một tay chơi nào đã là thành viên bảo lãnh.', 'thông thường dân chơi sẽ được bảo lãnh bằng cách dùng chung user name (tên truy nhập) và password (mật khẩu) sau khi đã được \"thẩm tra\" tiềm năng chi trả.', 'đừng nói chuyện \"bùng\" khi thua ở đây vì những kẻ đã dám bảo lãnh có trăm nghìn cách để cho \"con nợ\" dẫu có chết cũng phải sống dậy để trả nợ.', 'trước trận đấu, dân chơi có thể đăng nhập vào để biết tỷ lệ cược (tỷ số và kết quả chung cuộc) để chuẩn bị chơi và có thể cá cược bất cứ lúc nào trong suốt trận đấu cho đến khi bóng ngừng lăn.', 'một trận đấu có thể click cả hàng chục kết quả khác nhau.', 'ngay như trận czech-phần lan cuối tuần rồi, tỷ lệ ra kèo czech chấp nửa một ngay đầu trận, đến phút 35 czech thắng 2-0 thì chủ nhà chấp hẳn trái rưỡi.', 'tuy nhiên khi phần lan gỡ hòa thì kèo lại hạ và không ít kẻ đổ về phần lan để rồi nhận \"cái chết bất ngờ\" khi czech thắng 3-2 ở phút 87.  với dân cá độ nếu thua thì tài khoản \"goodbye\" từ việt nam về hong kong.', 'nếu thắng, tiền sẽ được chuyển thẳng vào tài khoản thẻ, còn những kẻ được bảo lãnh chơi (không có tài khoản) thì sẽ có người cầm hàng tệp usd giao tận nhà.', 'theo nguyễn công thanh, chủ một garage xe hơi tại tp hcm, chơi như vậy an toàn và bảo mật hơn, hầu như không có rủi ro cho cả nhà cái lẫn con bạc.', 'hơn nữa, thanh khẳng định \"công an chưa mò vào đây\".', 'giải vô địch anh và những trận đấu cấp đội tuyển quốc gia châu âu luôn được \"hâm mộ\" bởi tính chất quyết liệt, căng thẳng với những bàn thắng cuối trận, khiến không ít kẻ từ cõi chết trở về và cũng đẩy không ít người đã cầm chắc 99% thắng cược lao xuống vực.', 'những dân chơi có \"thâm niên\" thì cho rằng vẫn có \"bán độ\" trong những giải ấy.', 'trận anh - bắc ireland trong khuôn khổ vòng loại worldcup 2006 đêm 26/3 được lấy làm dẫn chứng.', 'đầu trận, click vào anh chấp 1,5 trái theo tỷ lệ châu á, khách chơi đổ theo anh, backham và đồng đội chơi rất hay nhưng không ghi được bàn nào.', 'sang hiệp 2, khi mà khách đổi sang bắc ireland cũng với kèo trên thì anh nã liên tiếp 4 trái, khách tiếp tục thua lần 2. chuyện này gợi nhớ lại tigercup 2004, kèo ra việt nam chấp campuchia 3,5 trái mà hiệp 1 việt nam chỉ thắng nổi 2-1. đợi lúc khách đổi sang campuchia ở hiệp 2 thì không chỉ cầu thủ việt nam thi nhau dội bom mà cả cầu thủ campuchia cũng đá phản cho \"kịp\".', 'đó là chuyện của quá khứ, còn sang năm nay, dân chơi cá độ kháo nhau nhà cái \"thả\" cho khách ăn để họ không nản mà bỏ cuộc chơi.', 'xem ra cũng có cơ sở khi mà những chuyện bất ngờ đại loại như hy lạp vô địch euro 2004, porto và monaco vào chung kết champion league hay singapore vô địch tiger cup chưa thấy xuất hiện.', 'tuy nhiên, lời cảnh báo \"cái chết bất ngờ\" theo đủ nghĩa với dân chơi cá độ thì không bao giờ thừa.']\n"
     ]
    }
   ],
   "source": [
    "# Trước khi tóm tắt\n",
    "print(sentences)"
   ]
  },
  {
   "cell_type": "code",
   "execution_count": 55,
   "metadata": {},
   "outputs": [
    {
     "data": {
      "text/plain": [
       "'nhưng chỉ khi nào khuynh gia bại sản thì may ra một số kẻ mới tỉnh, còn đa số vẫn lao đầu vào như những con thiêu thân. khó hơn nữa, ít nhất người chơi cần phải có 20.000 usd trong tài khoản trở lên thì mới được \"xem xét\" để thành vip, còn không thì phải tìm một tay chơi nào đã là thành viên bảo lãnh. nhưng được làm thành viên (member) của các trang web này không phải dễ. giải vô địch anh và những trận đấu cấp đội tuyển quốc gia châu âu luôn được \"hâm mộ\" bởi tính chất quyết liệt, căng thẳng với những bàn thắng cuối trận, khiến không ít kẻ từ cõi chết trở về và cũng đẩy không ít người đã cầm chắc 99% thắng cược lao xuống vực. sang hiệp 2, khi mà khách đổi sang bắc ireland cũng với kèo trên thì anh nã liên tiếp 4 trái, khách tiếp tục thua lần 2. chuyện này gợi nhớ lại tigercup 2004, kèo ra việt nam chấp campuchia 3,5 trái mà hiệp 1 việt nam chỉ thắng nổi 2-1. đợi lúc khách đổi sang campuchia ở hiệp 2 thì không chỉ cầu thủ việt nam thi nhau dội bom mà cả cầu thủ campuchia cũng đá phản cho \"kịp\".'"
      ]
     },
     "execution_count": 55,
     "metadata": {},
     "output_type": "execute_result"
    }
   ],
   "source": [
    "# Sau khi tóm tắt\n",
    "summary"
   ]
  },
  {
   "cell_type": "code",
   "execution_count": null,
   "metadata": {},
   "outputs": [],
   "source": []
  }
 ],
 "metadata": {
  "kernelspec": {
   "display_name": "tf",
   "language": "python",
   "name": "python3"
  },
  "language_info": {
   "codemirror_mode": {
    "name": "ipython",
    "version": 3
   },
   "file_extension": ".py",
   "mimetype": "text/x-python",
   "name": "python",
   "nbconvert_exporter": "python",
   "pygments_lexer": "ipython3",
   "version": "3.9.18"
  }
 },
 "nbformat": 4,
 "nbformat_minor": 2
}
